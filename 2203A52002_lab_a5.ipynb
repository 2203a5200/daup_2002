{
  "nbformat": 4,
  "nbformat_minor": 0,
  "metadata": {
    "colab": {
      "provenance": [],
      "authorship_tag": "ABX9TyMvztbCzIin3SM7qw9jLB3x",
      "include_colab_link": true
    },
    "kernelspec": {
      "name": "python3",
      "display_name": "Python 3"
    },
    "language_info": {
      "name": "python"
    }
  },
  "cells": [
    {
      "cell_type": "markdown",
      "metadata": {
        "id": "view-in-github",
        "colab_type": "text"
      },
      "source": [
        "<a href=\"https://colab.research.google.com/github/2203a5200/deep-learning/blob/main/2203A52002_lab_a5.ipynb\" target=\"_parent\"><img src=\"https://colab.research.google.com/assets/colab-badge.svg\" alt=\"Open In Colab\"/></a>"
      ]
    },
    {
      "cell_type": "code",
      "execution_count": 3,
      "metadata": {
        "id": "kyx-X4pAXdF6"
      },
      "outputs": [],
      "source": [
        "import numpy as np\n",
        "\n",
        "X_train = np.array([\n",
        "    [0.1, 0.2, 0.3],\n",
        "    [0.2, 0.3, 0.4],\n",
        "    [0.3, 0.4, 0.5],\n",
        "    [0.5, 0.6, 0.7],\n",
        "    [0.1, 0.3, 0.5],\n",
        "    [0.2, 0.4, 0.6],\n",
        "    [0.3, 0.5, 0.7],\n",
        "    [0.4, 0.6, 0.8],\n",
        "    [0.5, 0.7, 0.1]\n",
        "])"
      ]
    },
    {
      "cell_type": "code",
      "source": [
        "y_train = np.array([0.14, 0.20, 0.26, 0.38, 0.22, 0.28, 0.34, 0.40, 0.22])\n"
      ],
      "metadata": {
        "id": "fsUJwaf7XlGC"
      },
      "execution_count": 2,
      "outputs": []
    },
    {
      "cell_type": "code",
      "source": [
        "weights = np.random.randn(3)\n",
        "bias = np.random.randn(1)\n",
        "\n",
        "learning_rate = 0.1\n",
        "epochs = 1000"
      ],
      "metadata": {
        "id": "qC_Nj7ucX2xf"
      },
      "execution_count": 5,
      "outputs": []
    },
    {
      "cell_type": "code",
      "source": [
        "def mean_squared_error(y_true, y_pred):\n",
        "    return np.mean((y_true - y_pred) ** 2)\n",
        "\n",
        "def train_sgd(X, y, weights, bias, learning_rate, epochs):\n",
        "    for epoch in range(epochs):\n",
        "        perm = np.random.permutation(len(X))\n",
        "        X_shuffled = X[perm]\n",
        "        y_shuffled = y[perm]\n",
        "\n",
        "        for i in range(len(X)):\n",
        "            x_i = X_shuffled[i]\n",
        "            y_i = y_shuffled[i]\n",
        "\n",
        "            y_pred = np.dot(x_i, weights) + bias\n",
        "\n",
        "            error = y_pred - y_i\n",
        "\n",
        "            gradient_w = error * x_i\n",
        "            gradient_b = error\n",
        "\n",
        "            weights -= learning_rate * gradient_w\n",
        "            bias -= learning_rate * gradient_b\n",
        "\n",
        "        if epoch % 100 == 0:\n",
        "            y_pred_train = np.dot(X, weights) + bias\n",
        "            mse = mean_squared_error(y, y_pred_train)\n",
        "            print(f'Epoch {epoch}, MSE: {mse}')\n",
        "\n",
        "    return weights, bias\n",
        "\n"
      ],
      "metadata": {
        "id": "WbxM0zwnX84E"
      },
      "execution_count": 6,
      "outputs": []
    },
    {
      "cell_type": "code",
      "source": [
        "weights, bias = train_sgd(X_train, y_train, weights, bias, learning_rate, epochs)\n",
        "\n",
        "def predict(x1, x2, x3, weights, bias):\n",
        "    return np.dot([x1, x2, x3], weights) + bias\n",
        "\n",
        "X_test = np.array([\n",
        "    [0.6, 0.7, 0.8],\n",
        "    [0.7, 0.8, 0.9]\n",
        "])\n",
        "y_test = np.array([0.44, 0.50])\n",
        "\n",
        "y_test_pred = np.array([predict(x[0], x[1], x[2], weights, bias) for x in X_test])\n",
        "\n",
        "mse_test = mean_squared_error(y_test, y_test_pred)\n",
        "print(f'Test Data MSE: {mse_test}')\n",
        "\n",
        "def user_input_prediction():\n",
        "    x1 = float(input(\"Enter x1: \"))\n",
        "    x2 = float(input(\"Enter x2: \"))\n",
        "    x3 = float(input(\"Enter x3: \"))\n",
        "    prediction = predict(x1, x2, x3, weights, bias)\n",
        "    print(f\"Predicted output: {prediction}\")\n",
        "\n",
        "\n",
        "user_input_prediction()"
      ],
      "metadata": {
        "colab": {
          "base_uri": "https://localhost:8080/"
        },
        "id": "vpAlnrRkYNLz",
        "outputId": "025939c7-8750-4174-8ed8-72c39cc52b5f"
      },
      "execution_count": 7,
      "outputs": [
        {
          "output_type": "stream",
          "name": "stdout",
          "text": [
            "Epoch 0, MSE: 0.06411392958949297\n",
            "Epoch 100, MSE: 0.00060412878900023\n",
            "Epoch 200, MSE: 0.00048061431025263394\n",
            "Epoch 300, MSE: 0.0003879998611934537\n",
            "Epoch 400, MSE: 0.0003122415797362183\n",
            "Epoch 500, MSE: 0.00027922914056616155\n",
            "Epoch 600, MSE: 0.00020363557072717575\n",
            "Epoch 700, MSE: 0.00016305714436640702\n",
            "Epoch 800, MSE: 0.0001316089525012895\n",
            "Epoch 900, MSE: 0.00010648302776492731\n",
            "Test Data MSE: 0.002154533268042869\n",
            "Enter x1: 56\n",
            "Enter x2: 86\n",
            "Enter x3: 48\n",
            "Predicted output: [32.70574146]\n"
          ]
        }
      ]
    }
  ]
}