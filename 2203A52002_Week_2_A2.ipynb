{
  "nbformat": 4,
  "nbformat_minor": 0,
  "metadata": {
    "colab": {
      "provenance": [],
      "include_colab_link": true
    },
    "kernelspec": {
      "name": "python3",
      "display_name": "Python 3"
    },
    "language_info": {
      "name": "python"
    }
  },
  "cells": [
    {
      "cell_type": "markdown",
      "metadata": {
        "id": "view-in-github",
        "colab_type": "text"
      },
      "source": [
        "<a href=\"https://colab.research.google.com/github/2203a5200/deep-learning/blob/main/2203A52002_Week_2_A2.ipynb\" target=\"_parent\"><img src=\"https://colab.research.google.com/assets/colab-badge.svg\" alt=\"Open In Colab\"/></a>"
      ]
    },
    {
      "cell_type": "code",
      "execution_count": null,
      "metadata": {
        "colab": {
          "base_uri": "https://localhost:8080/"
        },
        "id": "Qzz1an5UHJy2",
        "outputId": "3da8c704-2927-4fe7-e90c-ec96423401ce"
      },
      "outputs": [
        {
          "output_type": "stream",
          "name": "stdout",
          "text": [
            "Maximum profit: Rs 27\n",
            "Number of chocolates A: 2\n",
            "Number of chocolates B: 3\n"
          ]
        }
      ],
      "source": [
        "milk_limit = 5\n",
        "choco_limit = 12\n",
        "max_profit = 0\n",
        "best_A = 0\n",
        "best_B = 0\n",
        "for A in range(milk_limit + 1):\n",
        "    for B in range(milk_limit + 1):\n",
        "        if A + B <= milk_limit and 3 * A + 2 * B <= choco_limit:\n",
        "            profit = 6 * A + 5 * B\n",
        "            if profit > max_profit:\n",
        "                max_profit = profit\n",
        "                best_A = A\n",
        "                best_B = B\n",
        "print(f\"Maximum profit: Rs {max_profit}\")\n",
        "print(f\"Number of chocolates A: {best_A}\")\n",
        "print(f\"Number of chocolates B: {best_B}\")"
      ]
    },
    {
      "cell_type": "code",
      "source": [
        "total_land = 100\n",
        "total_budget = 700000\n",
        "total_labor = 1200\n",
        "wheat_cost = 7000\n",
        "barley_cost = 2000\n",
        "wheat_labor = 10\n",
        "barley_labor = 30\n",
        "wheat_profit = 50\n",
        "barley_profit = 120\n",
        "max_profit = 0\n",
        "best_x1 = 0\n",
        "best_x2 = 0\n",
        "for x1 in range(total_land * 10 + 1):\n",
        "    x1 = x1 / 10.0\n",
        "    for x2 in range(total_land * 10 + 1):\n",
        "        x2 = x2 / 10.0\n",
        "        if x1 + x2 <= total_land and \\\n",
        "           wheat_cost * x1 + barley_cost * x2 <= total_budget and \\\n",
        "           wheat_labor * x1 + barley_labor * x2 <= total_labor:\n",
        "            profit = wheat_profit * x1 + barley_profit * x2\n",
        "            if profit > max_profit:\n",
        "                max_profit = profit\n",
        "                best_x1 = x1\n",
        "                best_x2 = x2\n",
        "print(f\"Maximum profit: Rs {max_profit}\")\n",
        "print(f\"Optimal area for Wheat: {best_x1} hectares\")\n",
        "print(f\"Optimal area for Barley: {best_x2} hectares\")"
      ],
      "metadata": {
        "colab": {
          "base_uri": "https://localhost:8080/"
        },
        "id": "lOWbOp0_Q4E2",
        "outputId": "5806cf5d-e0e6-4b74-ac99-25d43f83033e"
      },
      "execution_count": null,
      "outputs": [
        {
          "output_type": "stream",
          "name": "stdout",
          "text": [
            "Maximum profit: Rs 5700.0\n",
            "Optimal area for Wheat: 90.0 hectares\n",
            "Optimal area for Barley: 10.0 hectares\n"
          ]
        }
      ]
    }
  ]
}